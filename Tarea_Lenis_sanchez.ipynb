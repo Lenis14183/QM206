{
  "nbformat": 4,
  "nbformat_minor": 0,
  "metadata": {
    "colab": {
      "provenance": [],
      "authorship_tag": "ABX9TyPSY+L0OanmAX+cm09kC/Pz",
      "include_colab_link": true
    },
    "kernelspec": {
      "name": "python3",
      "display_name": "Python 3"
    },
    "language_info": {
      "name": "python"
    }
  },
  "cells": [
    {
      "cell_type": "markdown",
      "metadata": {
        "id": "view-in-github",
        "colab_type": "text"
      },
      "source": [
        "<a href=\"https://colab.research.google.com/github/Lenis14183/QM206/blob/main/Tarea_Lenis_sanchez.ipynb\" target=\"_parent\"><img src=\"https://colab.research.google.com/assets/colab-badge.svg\" alt=\"Open In Colab\"/></a>"
      ]
    },
    {
      "cell_type": "code",
      "execution_count": 1,
      "metadata": {
        "colab": {
          "base_uri": "https://localhost:8080/"
        },
        "id": "Itsq_ab8pjf6",
        "outputId": "6d259287-1e83-43c7-f237-cf69a3d22f81"
      },
      "outputs": [
        {
          "output_type": "stream",
          "name": "stdout",
          "text": [
            "[{'simbolo': 'H', 'NA': 1, 'masa': 1.008}, {'simbolo': 'He', 'NA': 2, 'masa': 4.0026}]\n",
            "[{'simbolo': 'H', 'NA': 1, 'masa': 1.008}, {'simbolo': 'He', 'NA': 2, 'masa': 4.0026}, {'simbolo': 'Li', 'NA': 3, 'masa': 6.941}, {'simbolo': 'Be', 'NA': 4, 'masa': 9.0122}, {'simbolo': 'B', 'NA': 5, 'masa': 10.81}, {'simbolo': 'C', 'NA': 6, 'masa': 12.011}, {'simbolo': 'N', 'NA': 7, 'masa': 14.007}, {'simbolo': 'O', 'NA': 8, 'masa': 15.999}, {'simbolo': 'F', 'NA': 9, 'masa': 18.998}, {'simbolo': 'Ne', 'NA': 10, 'masa': 20.18}, {'simbolo': 'Na', 'NA': 11, 'masa': 22.99}, {'simbolo': 'Mg', 'NA': 12, 'masa': 24.305}, {'simbolo': 'Al', 'NA': 13, 'masa': 26.982}, {'simbolo': 'Si', 'NA': 14, 'masa': 28.086}, {'simbolo': 'P', 'NA': 15, 'masa': 30.974}, {'simbolo': 'S', 'NA': 16, 'masa': 32.065}, {'simbolo': 'Cl', 'NA': 17, 'masa': 35.453}, {'simbolo': 'Ar', 'NA': 18, 'masa': 39.948}, {'simbolo': 'K', 'NA': 19, 'masa': 39.098}, {'simbolo': 'Ca', 'NA': 20, 'masa': 40.078}]\n"
          ]
        }
      ],
      "source": [
        "elementos=[]\n",
        "elemento={\"simbolo\":\"H\",\"NA\":1,\"masa\":1.008}\n",
        "elementos.append(elemento)\n",
        "elemetno={\"simbolo\":\"He\",\"NA\":2,\"masa\":4.0026}\n",
        "elementos.append(elemetno)\n",
        "print(elementos)\n",
        "elemento={\"simbolo\":\"Li\",\"NA\":3,\"masa\":6.941}\n",
        "elementos.append(elemento)\n",
        "elemento={\"simbolo\":\"Be\",\"NA\":4,\"masa\":9.0122}\n",
        "elementos.append(elemento)\n",
        "elemento={\"simbolo\":\"B\",\"NA\":5,\"masa\":10.81}\n",
        "elementos.append(elemento)\n",
        "elemento={\"simbolo\":\"C\",\"NA\":6,\"masa\":12.011}\n",
        "elementos.append(elemento)\n",
        "elemento={\"simbolo\":\"N\",\"NA\":7,\"masa\":14.007}\n",
        "elementos.append(elemento)\n",
        "elemento={\"simbolo\":\"O\",\"NA\":8,\"masa\":15.999}\n",
        "elementos.append(elemento)\n",
        "elemento={\"simbolo\":\"F\",\"NA\":9,\"masa\":18.998}\n",
        "elementos.append(elemento)\n",
        "elemento={\"simbolo\":\"Ne\",\"NA\":10,\"masa\":20.18}\n",
        "elementos.append(elemento)\n",
        "elemento={\"simbolo\":\"Na\",\"NA\":11,\"masa\":22.99}\n",
        "elementos.append(elemento)\n",
        "elemento={\"simbolo\":\"Mg\",\"NA\":12,\"masa\":24.305}\n",
        "elementos.append(elemento)\n",
        "elemento={\"simbolo\":\"Al\",\"NA\":13,\"masa\":26.982}\n",
        "elementos.append(elemento)\n",
        "elemento={\"simbolo\":\"Si\",\"NA\":14,\"masa\":28.086}\n",
        "elementos.append(elemento)\n",
        "elemento={\"simbolo\":\"P\",\"NA\":15,\"masa\":30.974}\n",
        "elementos.append(elemento)\n",
        "elemento={\"simbolo\":\"S\",\"NA\":16,\"masa\":32.065}\n",
        "elementos.append(elemento)\n",
        "elemento={\"simbolo\":\"Cl\",\"NA\":17,\"masa\":35.453}\n",
        "elementos.append(elemento)\n",
        "elemento={\"simbolo\":\"Ar\",\"NA\":18,\"masa\":39.948}\n",
        "elementos.append(elemento)\n",
        "elemento={\"simbolo\":\"K\",\"NA\":19,\"masa\":39.098}\n",
        "elementos.append(elemento)\n",
        "elemento={\"simbolo\":\"Ca\",\"NA\":20,\"masa\":40.078}\n",
        "elementos.append(elemento)\n",
        "print(elementos)"
      ]
    }
  ]
}